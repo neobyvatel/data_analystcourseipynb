{
    "cells": [
        {
            "cell_type": "markdown",
            "metadata": {},
            "source": [
                "## data_analystcourseipynb"
            ]
        },
        {
            "cell_type": "markdown",
            "metadata": {},
            "source": [
                "### \u0412\u0432\u0435\u0434\u0435\u043d\u0438\u0435\n\u042d\u0442\u043e\u0442 \u0431\u043b\u043e\u043a\u043d\u043e\u0442 \u0441\u043e\u0434\u0435\u0440\u0436\u0438\u0442 \u0443\u043f\u0440\u0430\u0436\u043d\u0435\u043d\u0438\u044f \u043f\u043e \u043d\u0430\u0443\u043a\u0435 \u043e \u0434\u0430\u043d\u043d\u044b\u0445."
            ]
        },
        {
            "cell_type": "markdown",
            "metadata": {},
            "source": [
                "### \u042f\u0437\u044b\u043a\u0438 \u043d\u0430\u0443\u043a\u0438 \u043e \u0434\u0430\u043d\u043d\u044b\u0445\n- Python\n- R\n- SQL"
            ]
        },
        {
            "cell_type": "markdown",
            "metadata": {},
            "source": [
                "### \u0411\u0438\u0431\u043b\u0438\u043e\u0442\u0435\u043a\u0438 \u043d\u0430\u0443\u043a\u0438 \u043e \u0434\u0430\u043d\u043d\u044b\u0445\n- NumPy\n- Pandas\n- Matplotlib\n- Scikit-learn"
            ]
        },
        {
            "cell_type": "markdown",
            "metadata": {},
            "source": [
                "### \u0422\u0430\u0431\u043b\u0438\u0446\u0430 \u0438\u043d\u0441\u0442\u0440\u0443\u043c\u0435\u043d\u0442\u043e\u0432 Data Science\n",
                "| \u0418\u043d\u0441\u0442\u0440\u0443\u043c\u0435\u043d\u0442 | \u041e\u043f\u0438\u0441\u0430\u043d\u0438\u0435 |\n",
                "|-----------|----------|\n",
                "| Jupyter Notebook | \u0421\u0440\u0435\u0434\u0430 \u0432\u044b\u043f\u043e\u043b\u043d\u0435\u043d\u0438\u044f \u043a\u043e\u0434\u0430 |\n",
                "| RStudio | IDE \u0434\u043b\u044f R |\n",
                "| TensorFlow | \u0411\u0438\u0431\u043b\u0438\u043e\u0442\u0435\u043a\u0430 \u0434\u043b\u044f \u043c\u0430\u0448\u0438\u043d\u043d\u043e\u0433\u043e \u043e\u0431\u0443\u0447\u0435\u043d\u0438\u044f |\n",
                "| Apache Spark | \u0424\u0440\u0435\u0439\u043c\u0432\u043e\u0440\u043a \u0434\u043b\u044f \u043e\u0431\u0440\u0430\u0431\u043e\u0442\u043a\u0438 \u0434\u0430\u043d\u043d\u044b\u0445 |"
            ]
        },
        {
            "cell_type": "markdown",
            "metadata": {},
            "source": [
                "### \u041f\u0440\u0438\u043c\u0435\u0440\u044b \u0430\u0440\u0438\u0444\u043c\u0435\u0442\u0438\u0447\u0435\u0441\u043a\u0438\u0445 \u0432\u044b\u0440\u0430\u0436\u0435\u043d\u0438\u0439\n",
                "- 2 + 2 = 4\n",
                "- 5 * 3 = 15"
            ]
        },
        {
            "cell_type": "code",
            "metadata": {},
            "source": [
                "# \u0423\u043c\u043d\u043e\u0436\u0435\u043d\u0438\u0435 \u0438 \u0441\u043b\u043e\u0436\u0435\u043d\u0438\u0435\n",
                "x = 5\n",
                "y = 3\n",
                "multiplication = x * y\n",
                "addition = x + y\n",
                "print(f'\u0423\u043c\u043d\u043e\u0436\u0435\u043d\u0438\u0435: {multiplication}, \u0421\u043b\u043e\u0436\u0435\u043d\u0438\u0435: {addition}')"
            ],
            "outputs": [],
            "execution_count": null
        },
        {
            "cell_type": "code",
            "metadata": {},
            "source": [
                "# \u041f\u0440\u0435\u043e\u0431\u0440\u0430\u0437\u043e\u0432\u0430\u043d\u0438\u0435 \u043c\u0438\u043d\u0443\u0442 \u0432 \u0447\u0430\u0441\u044b\n",
                "minutes = 120\n",
                "hours = minutes / 60\n",
                "print(f'{minutes} \u043c\u0438\u043d\u0443\u0442 = {hours} \u0447\u0430\u0441\u043e\u0432')"
            ],
            "outputs": [],
            "execution_count": null
        },
        {
            "cell_type": "markdown",
            "metadata": {},
            "source": [
                "### \u0426\u0435\u043b\u0438\n",
                "- \u0418\u0437\u0443\u0447\u0438\u0442\u044c \u043e\u0441\u043d\u043e\u0432\u044b Data Science\n",
                "- \u041e\u0437\u043d\u0430\u043a\u043e\u043c\u0438\u0442\u044c\u0441\u044f \u0441 \u0438\u043d\u0441\u0442\u0440\u0443\u043c\u0435\u043d\u0442\u0430\u043c\u0438\n",
                "- \u041e\u0441\u0432\u043e\u0438\u0442\u044c Python \u0438 \u0431\u0438\u0431\u043b\u0438\u043e\u0442\u0435\u043a\u0438"
            ]
        },
        {
            "cell_type": "markdown",
            "metadata": {},
            "source": [
                "### \u0410\u0432\u0442\u043e\u0440\n\u0418\u043c\u044f: [\u0412\u0430\u0448\u0435 \u0438\u043c\u044f]"
            ]
        },
        {
            "cell_type": "markdown",
            "metadata": {},
            "source": [
                "### \u041a\u0430\u043a \u043f\u043e\u0434\u0435\u043b\u0438\u0442\u044c\u0441\u044f \u0431\u043b\u043e\u043a\u043d\u043e\u0442\u043e\u043c \u0447\u0435\u0440\u0435\u0437 GitHub\n",
                "1. \u0421\u043e\u0437\u0434\u0430\u0439\u0442\u0435 \u0440\u0435\u043f\u043e\u0437\u0438\u0442\u043e\u0440\u0438\u0439 \u043d\u0430 GitHub.\n",
                "2. \u0414\u043e\u0431\u0430\u0432\u044c\u0442\u0435 \u0431\u043b\u043e\u043a\u043d\u043e\u0442 \u0432 \u0440\u0435\u043f\u043e\u0437\u0438\u0442\u043e\u0440\u0438\u0439.\n",
                "3. \u0418\u0441\u043f\u043e\u043b\u044c\u0437\u0443\u0439\u0442\u0435 \u043a\u043e\u043c\u0430\u043d\u0434\u044b Git:\n",
                "```bash\n",
                "git add notebook.ipynb\n",
                "git commit -m \"\u0414\u043e\u0431\u0430\u0432\u043b\u0435\u043d \u0431\u043b\u043e\u043a\u043d\u043e\u0442\"\n",
                "git push origin main\n",
                "```"
            ]
        },
        {
            "cell_type": "markdown",
            "metadata": {},
            "source": [
                "### \u0421\u043a\u0440\u0438\u043d\u0448\u043e\u0442\n\u041d\u0435 \u0437\u0430\u0431\u0443\u0434\u044c\u0442\u0435 \u0441\u0434\u0435\u043b\u0430\u0442\u044c \u0441\u043a\u0440\u0438\u043d\u0448\u043e\u0442 \u0438 \u043f\u0440\u0438\u043a\u0440\u0435\u043f\u0438\u0442\u044c \u0435\u0433\u043e \u0432 \u043e\u0442\u0447\u0435\u0442!"
            ]
        }
    ],
    "metadata": {},
    "nbformat": 4,
    "nbformat_minor": 4
}